{
 "cells": [
  {
   "cell_type": "code",
   "execution_count": null,
   "metadata": {
    "collapsed": false
   },
   "outputs": [],
   "source": [
    "import json\n",
    "import vcf\n",
    "import pandas as pd\n",
    "\n",
    "from genda.formats import panVCF"
   ]
  },
  {
   "cell_type": "code",
   "execution_count": null,
   "metadata": {
    "collapsed": false
   },
   "outputs": [],
   "source": [
    "vcf_reader = vcf.Reader(open(\"data/bndgenotype/inputs/APGI1953_Tumor-lumpy.vcf.gz\", \"rb\"))\n",
    "record = next(vcf_reader)\n",
    "vcf_json = json.dumps(record.INFO)\n",
    "vcf_json_pretty = json.loads(vcf_json)\n",
    "vcf_json_pretty"
   ]
  },
  {
   "cell_type": "code",
   "execution_count": null,
   "metadata": {
    "collapsed": false
   },
   "outputs": [],
   "source": [
    "# this is needed instead of pandas.from_json() since arrays have different lengths\n",
    "df_vcf = pd.DataFrame(vcf_json_pretty.items()) \n",
    "df_vcf"
   ]
  },
  {
   "cell_type": "code",
   "execution_count": null,
   "metadata": {
    "collapsed": false
   },
   "outputs": [],
   "source": [
    "genda_vcf = panVCF.VCF('tests/test-lumpy-mini.vcf')\n",
    "genda_vcf.vcf"
   ]
  },
  {
   "cell_type": "code",
   "execution_count": null,
   "metadata": {
    "collapsed": false
   },
   "outputs": [],
   "source": [
    "%%time\n",
    "\n",
    "real_apgi = panVCF.VCF('data/bndgenotype/inputs/APGI1953_Tumor-lumpy.vcf.gz')\n",
    "real_apgi.vcf.head(10)"
   ]
  }
 ],
 "metadata": {
  "kernelspec": {
   "display_name": "Python 2",
   "language": "python",
   "name": "python2"
  },
  "language_info": {
   "codemirror_mode": {
    "name": "ipython",
    "version": 2
   },
   "file_extension": ".py",
   "mimetype": "text/x-python",
   "name": "python",
   "nbconvert_exporter": "python",
   "pygments_lexer": "ipython2",
   "version": "2.7.11"
  }
 },
 "nbformat": 4,
 "nbformat_minor": 0
}
