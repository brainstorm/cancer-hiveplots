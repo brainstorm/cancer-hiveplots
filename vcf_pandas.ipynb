{
 "cells": [
  {
   "cell_type": "code",
   "execution_count": 17,
   "metadata": {
    "collapsed": false
   },
   "outputs": [],
   "source": [
    "import json\n",
    "import vcf\n",
    "import pandas as pd\n",
    "\n",
    "from genda.formats import panVCF"
   ]
  },
  {
   "cell_type": "code",
   "execution_count": 16,
   "metadata": {
    "collapsed": false
   },
   "outputs": [
    {
     "data": {
      "text/plain": [
       "{u'AC': [0],\n",
       " u'AN': 0,\n",
       " u'ANN': [u'[8:245683[N|downstream_gene_variant|MODIFIER|LINC01128|ENSG00000228794|transcript|ENST00000445118|lincRNA||n.*2326_*2327ins[8:245683[|||||2327|',\n",
       "  u'[8:245683[N|intergenic_region|MODIFIER|LINC01128-FAM41C|ENSG00000228794-ENSG00000230368|intergenic_region|ENSG00000228794-ENSG00000230368|||n.797152_797153ins[8:245683[||||||'],\n",
       " u'CIEND': [-241, 10],\n",
       " u'CIEND95': [-113, 2],\n",
       " u'CIPOS': [-200, 10],\n",
       " u'CIPOS95': [-101, 2],\n",
       " u'EVENT': u'8015',\n",
       " u'IMPRECISE': True,\n",
       " u'MATEID': [u'8015_2'],\n",
       " u'PE': [8],\n",
       " u'SR': [0],\n",
       " u'STRANDS': [u'--:8'],\n",
       " u'SU': [8],\n",
       " u'SVTYPE': u'BND'}"
      ]
     },
     "execution_count": 16,
     "metadata": {},
     "output_type": "execute_result"
    }
   ],
   "source": [
    "vcf_reader = vcf.Reader(open(\"data/bndgenotype/inputs/APGI1953_Tumor-lumpy.vcf.gz\", \"rb\"))\n",
    "record = next(vcf_reader)\n",
    "vcf_json = json.dumps(record.INFO)\n",
    "vcf_json_pretty = json.loads(vcf_json)\n",
    "vcf_json_pretty"
   ]
  },
  {
   "cell_type": "code",
   "execution_count": 15,
   "metadata": {
    "collapsed": false
   },
   "outputs": [
    {
     "data": {
      "text/html": [
       "<div>\n",
       "<table border=\"1\" class=\"dataframe\">\n",
       "  <thead>\n",
       "    <tr style=\"text-align: right;\">\n",
       "      <th></th>\n",
       "      <th>0</th>\n",
       "      <th>1</th>\n",
       "    </tr>\n",
       "  </thead>\n",
       "  <tbody>\n",
       "    <tr>\n",
       "      <th>0</th>\n",
       "      <td>CIEND</td>\n",
       "      <td>[-241, 10]</td>\n",
       "    </tr>\n",
       "    <tr>\n",
       "      <th>1</th>\n",
       "      <td>CIPOS</td>\n",
       "      <td>[-200, 10]</td>\n",
       "    </tr>\n",
       "    <tr>\n",
       "      <th>2</th>\n",
       "      <td>MATEID</td>\n",
       "      <td>[8015_2]</td>\n",
       "    </tr>\n",
       "    <tr>\n",
       "      <th>3</th>\n",
       "      <td>STRANDS</td>\n",
       "      <td>[--:8]</td>\n",
       "    </tr>\n",
       "    <tr>\n",
       "      <th>4</th>\n",
       "      <td>ANN</td>\n",
       "      <td>[[8:245683[N|downstream_gene_variant|MODIFIER|...</td>\n",
       "    </tr>\n",
       "    <tr>\n",
       "      <th>5</th>\n",
       "      <td>CIPOS95</td>\n",
       "      <td>[-101, 2]</td>\n",
       "    </tr>\n",
       "    <tr>\n",
       "      <th>6</th>\n",
       "      <td>AC</td>\n",
       "      <td>[0]</td>\n",
       "    </tr>\n",
       "    <tr>\n",
       "      <th>7</th>\n",
       "      <td>SU</td>\n",
       "      <td>[8]</td>\n",
       "    </tr>\n",
       "    <tr>\n",
       "      <th>8</th>\n",
       "      <td>AN</td>\n",
       "      <td>0</td>\n",
       "    </tr>\n",
       "    <tr>\n",
       "      <th>9</th>\n",
       "      <td>SVTYPE</td>\n",
       "      <td>BND</td>\n",
       "    </tr>\n",
       "    <tr>\n",
       "      <th>10</th>\n",
       "      <td>CIEND95</td>\n",
       "      <td>[-113, 2]</td>\n",
       "    </tr>\n",
       "    <tr>\n",
       "      <th>11</th>\n",
       "      <td>PE</td>\n",
       "      <td>[8]</td>\n",
       "    </tr>\n",
       "    <tr>\n",
       "      <th>12</th>\n",
       "      <td>IMPRECISE</td>\n",
       "      <td>True</td>\n",
       "    </tr>\n",
       "    <tr>\n",
       "      <th>13</th>\n",
       "      <td>EVENT</td>\n",
       "      <td>8015</td>\n",
       "    </tr>\n",
       "    <tr>\n",
       "      <th>14</th>\n",
       "      <td>SR</td>\n",
       "      <td>[0]</td>\n",
       "    </tr>\n",
       "  </tbody>\n",
       "</table>\n",
       "</div>"
      ],
      "text/plain": [
       "            0                                                  1\n",
       "0       CIEND                                         [-241, 10]\n",
       "1       CIPOS                                         [-200, 10]\n",
       "2      MATEID                                           [8015_2]\n",
       "3     STRANDS                                             [--:8]\n",
       "4         ANN  [[8:245683[N|downstream_gene_variant|MODIFIER|...\n",
       "5     CIPOS95                                          [-101, 2]\n",
       "6          AC                                                [0]\n",
       "7          SU                                                [8]\n",
       "8          AN                                                  0\n",
       "9      SVTYPE                                                BND\n",
       "10    CIEND95                                          [-113, 2]\n",
       "11         PE                                                [8]\n",
       "12  IMPRECISE                                               True\n",
       "13      EVENT                                               8015\n",
       "14         SR                                                [0]"
      ]
     },
     "execution_count": 15,
     "metadata": {},
     "output_type": "execute_result"
    }
   ],
   "source": [
    "# this is needed instead of pandas.from_json() since arrays have different lengths\n",
    "df_vcf = pd.DataFrame(vcf_json_pretty.items()) \n",
    "df_vcf"
   ]
  },
  {
   "cell_type": "code",
   "execution_count": 20,
   "metadata": {
    "collapsed": false
   },
   "outputs": [
    {
     "name": "stdout",
     "output_type": "stream",
     "text": [
      "APGI-ends.bed                   APGI1953_Tumor-lumpy.vcf.gz.tbi APGI1955_Tumor-lumpy.vcf.gz     APGI1955_Tumor-manta.vcf.gz.tbi APGI2049_Tumor-manta.vcf.gz\r\n",
      "APGI-svs.csv                    APGI1953_Tumor-manta.vcf.gz     APGI1955_Tumor-lumpy.vcf.gz.tbi APGI2049_Tumor-lumpy.vcf.gz     APGI2049_Tumor-manta.vcf.gz.tbi\r\n",
      "APGI1953_Tumor-lumpy.vcf.gz     APGI1953_Tumor-manta.vcf.gz.tbi APGI1955_Tumor-manta.vcf.gz     APGI2049_Tumor-lumpy.vcf.gz.tbi \u001b[34mtest-data\u001b[m\u001b[m\r\n"
     ]
    }
   ],
   "source": [
    "!ls data/vcf"
   ]
  },
  {
   "cell_type": "code",
   "execution_count": 23,
   "metadata": {
    "collapsed": false
   },
   "outputs": [
    {
     "data": {
      "text/html": [
       "<div>\n",
       "<table border=\"1\" class=\"dataframe\">\n",
       "  <thead>\n",
       "    <tr style=\"text-align: right;\">\n",
       "      <th></th>\n",
       "      <th>APGI1953_Tumor</th>\n",
       "    </tr>\n",
       "  </thead>\n",
       "  <tbody>\n",
       "    <tr>\n",
       "      <th>8015_1</th>\n",
       "      <td>0</td>\n",
       "    </tr>\n",
       "    <tr>\n",
       "      <th>8014_1</th>\n",
       "      <td>0</td>\n",
       "    </tr>\n",
       "    <tr>\n",
       "      <th>7721_1</th>\n",
       "      <td>0</td>\n",
       "    </tr>\n",
       "    <tr>\n",
       "      <th>8862_1</th>\n",
       "      <td>0</td>\n",
       "    </tr>\n",
       "    <tr>\n",
       "      <th>8863_1</th>\n",
       "      <td>0</td>\n",
       "    </tr>\n",
       "    <tr>\n",
       "      <th>8301_1</th>\n",
       "      <td>0</td>\n",
       "    </tr>\n",
       "    <tr>\n",
       "      <th>1</th>\n",
       "      <td>1</td>\n",
       "    </tr>\n",
       "    <tr>\n",
       "      <th>8296_1</th>\n",
       "      <td>1</td>\n",
       "    </tr>\n",
       "    <tr>\n",
       "      <th>7822_1</th>\n",
       "      <td>0</td>\n",
       "    </tr>\n",
       "    <tr>\n",
       "      <th>8507_1</th>\n",
       "      <td>0</td>\n",
       "    </tr>\n",
       "    <tr>\n",
       "      <th>4</th>\n",
       "      <td>0</td>\n",
       "    </tr>\n",
       "    <tr>\n",
       "      <th>3</th>\n",
       "      <td>1</td>\n",
       "    </tr>\n",
       "    <tr>\n",
       "      <th>5</th>\n",
       "      <td>0</td>\n",
       "    </tr>\n",
       "    <tr>\n",
       "      <th>2</th>\n",
       "      <td>1</td>\n",
       "    </tr>\n",
       "  </tbody>\n",
       "</table>\n",
       "</div>"
      ],
      "text/plain": [
       "        APGI1953_Tumor\n",
       "8015_1               0\n",
       "8014_1               0\n",
       "7721_1               0\n",
       "8862_1               0\n",
       "8863_1               0\n",
       "8301_1               0\n",
       "1                    1\n",
       "8296_1               1\n",
       "7822_1               0\n",
       "8507_1               0\n",
       "4                    0\n",
       "3                    1\n",
       "5                    0\n",
       "2                    1"
      ]
     },
     "execution_count": 23,
     "metadata": {},
     "output_type": "execute_result"
    }
   ],
   "source": [
    "genda_vcf = panVCF.VCF('tests/test-lumpy-mini.vcf')\n",
    "genda_vcf.geno"
   ]
  },
  {
   "cell_type": "code",
   "execution_count": null,
   "metadata": {
    "collapsed": true
   },
   "outputs": [],
   "source": []
  }
 ],
 "metadata": {
  "kernelspec": {
   "display_name": "Python 2",
   "language": "python",
   "name": "python2"
  },
  "language_info": {
   "codemirror_mode": {
    "name": "ipython",
    "version": 2
   },
   "file_extension": ".py",
   "mimetype": "text/x-python",
   "name": "python",
   "nbconvert_exporter": "python",
   "pygments_lexer": "ipython2",
   "version": "2.7.11"
  }
 },
 "nbformat": 4,
 "nbformat_minor": 0
}
