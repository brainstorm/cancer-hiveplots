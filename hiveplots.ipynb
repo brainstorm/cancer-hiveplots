{
 "cells": [
  {
   "cell_type": "code",
   "execution_count": null,
   "metadata": {
    "collapsed": true
   },
   "outputs": [],
   "source": [
    "from __future__ import division\n",
    "import math\n",
    "import pandas as pd\n",
    "import numpy as np\n",
    "import matplotlib as plt\n",
    "from pyveplot import *\n",
    "import networkx as nx\n",
    "import random\n",
    "from IPython.display import SVG\n",
    "%matplotlib inline"
   ]
  },
  {
   "cell_type": "code",
   "execution_count": null,
   "metadata": {
    "collapsed": false
   },
   "outputs": [],
   "source": [
    "event_colors = {'DEL': 'red',\n",
    "                'INV': 'yellow',\n",
    "                'DUP': 'blue',\n",
    "                'BND': 'pink',\n",
    "                'complex': 'purple'}"
   ]
  },
  {
   "cell_type": "code",
   "execution_count": null,
   "metadata": {
    "collapsed": false
   },
   "outputs": [],
   "source": [
    "apgi_1953 = pd.read_table(\"APGI1953_Tumor_lumpy.tsv\")\n",
    "apgi_1955 = pd.read_table(\"APGI1955_Tumor_lumpy.tsv\")\n",
    "apgi_2049 = pd.read_table(\"APGI2049_Tumor_lumpy.tsv\")\n",
    "\n",
    "panc_2156 = pd.read_table(\"2156.tsv\", names=[\"chrom\", \"chrom_b\", \"sv\"])"
   ]
  },
  {
   "cell_type": "markdown",
   "metadata": {},
   "source": [
    "### Only intra-chromosomal events happening on APGI datasets"
   ]
  },
  {
   "cell_type": "code",
   "execution_count": null,
   "metadata": {
    "collapsed": false
   },
   "outputs": [],
   "source": [
    "# i.e:\n",
    "apgi_1953[apgi_1953[\"chrom\"] == \"4\"]"
   ]
  },
  {
   "cell_type": "markdown",
   "metadata": {},
   "source": [
    "## Inter and intra chromosomal events in panc datasets"
   ]
  },
  {
   "cell_type": "code",
   "execution_count": null,
   "metadata": {
    "collapsed": false
   },
   "outputs": [],
   "source": [
    "panc_2156[panc_2156['chrom'] != panc_2156['chrom_b']].head()"
   ]
  },
  {
   "cell_type": "code",
   "execution_count": null,
   "metadata": {
    "collapsed": false
   },
   "outputs": [],
   "source": [
    "panc_2156[panc_2156[\"chrom\"] == \"1\"].head()"
   ]
  },
  {
   "cell_type": "code",
   "execution_count": null,
   "metadata": {
    "collapsed": false
   },
   "outputs": [],
   "source": [
    "panc_2156_cnts = panc_2156.groupby([\"chrom\", \"sv\"]).count()[\"chrom_b\"].reset_index(name=\"counts\")\n",
    "panc_2156_cnts.head()\n",
    "\n",
    "apgi_1953_grps = groupby_chrom_sv(apgi_1953)\n",
    "panc_2156_cnts.groupby([\"chrom\", \"sv\", \"counts\"]).groups, apgi_1953_grps.groups"
   ]
  },
  {
   "cell_type": "code",
   "execution_count": null,
   "metadata": {
    "collapsed": false
   },
   "outputs": [],
   "source": [
    "def groupby_chrom_sv(df):\n",
    "    by_chrom_sv = df.groupby([\"chrom\", \"sv\"])\n",
    "\n",
    "    # inter-chrom format\n",
    "    if \"chrom_b\" in df.columns:\n",
    "        by_chrom_sv = by_chrom_sv.count()[\"chrom_b\"].reset_index(name=\"counts\")\n",
    "        \n",
    "    # intra-chrom (add 0 to tuple to indicate self-loop)\n",
    "    if len(by_chrom_sv[0]) < 3:\n",
    "        print by_chrom_sv['1']\n",
    "    \n",
    "    return by_chrom_sv"
   ]
  },
  {
   "cell_type": "markdown",
   "metadata": {},
   "source": [
    "## Plot a hiveplot given a pandas dataframe"
   ]
  },
  {
   "cell_type": "code",
   "execution_count": null,
   "metadata": {
    "collapsed": false
   },
   "outputs": [],
   "source": [
    "def hiveplot(fname, dataframe):\n",
    "    # a network\n",
    "    g = nx.Graph()\n",
    "    i = nx.Graph()\n",
    "\n",
    "    # our hiveplot object\n",
    "    h = Hiveplot('{}.svg'.format(fname))\n",
    "\n",
    "                  # start      end\n",
    "    axis0 = Axis((200,200), (200,100), stroke=\"black\")\n",
    "    axis1 = Axis((200,200), (100,300), stroke=\"black\", stroke_width=1.2)\n",
    "\n",
    "    h.axes = [ axis0, axis1 ]\n",
    "\n",
    "    \n",
    "    for k, v in dataframe.groups.iteritems():\n",
    "        g.add_node(k[0])\n",
    "        # XXX: Same indexes since it is intra-chromosomal, needs to be generalized\n",
    "        g.add_edge(k[0], k[0], event=k[1], count=v[0])\n",
    "\n",
    "\n",
    "    for n in g.nodes():\n",
    "        # Separate instances for the axis, otherwise loops in itself.\n",
    "        node = Node(n)\n",
    "        node2 = Node(n)\n",
    "\n",
    "        # XXX: Find a better (more uniform) function than ord? \n",
    "        # A small hash function would be prob better here.\n",
    "        # Calculates the offset of the chromosomes in the axis. \n",
    "\n",
    "        if len(n) == 1:\n",
    "            offset_axis0 = ord(n) - 30\n",
    "            offset_axis1 = ord(n) - 20\n",
    "        else:\n",
    "            chrom_offset = 0\n",
    "            for char in n:\n",
    "                chrom_offset = chrom_offset + ord(char)\n",
    "\n",
    "            offset_axis0 = chrom_offset\n",
    "            offset_axis1 = chrom_offset\n",
    "\n",
    "        offset_axis0 = offset_axis0/120\n",
    "        offset_axis1 = offset_axis1/120\n",
    "\n",
    "        axis0.add_node(node, offset_axis0)\n",
    "        axis1.add_node(node2, offset_axis1)\n",
    "\n",
    "    for e in g.edges():\n",
    "        edge_data = g.get_edge_data(*e)\n",
    "\n",
    "        h.connect(axis1, e[1], 45, \n",
    "                  axis0, e[0], -45, \n",
    "                  stroke_width=edge_data['count']/10, stroke_opacity=\"0.4\", stroke=event_colors[edge_data['event']])\n",
    "\n",
    "    h.save()\n",
    "    #nx.draw_networkx(g)"
   ]
  },
  {
   "cell_type": "code",
   "execution_count": null,
   "metadata": {
    "collapsed": false
   },
   "outputs": [],
   "source": [
    "#hiveplot(\"apgi_1953\", groupby_chrom_sv(apgi_1953))\n",
    "#hiveplot(\"apgi_1955\", groupby_chrom_sv(apgi_1955))\n",
    "#hiveplot(\"apgi_2049\", groupby_chrom_sv(apgi_2049))\n",
    "hiveplot(\"panc_2156\", groupby_chrom_sv(panc_2156))"
   ]
  },
  {
   "cell_type": "code",
   "execution_count": null,
   "metadata": {
    "collapsed": true
   },
   "outputs": [],
   "source": []
  }
 ],
 "metadata": {
  "kernelspec": {
   "display_name": "Python 2",
   "language": "python",
   "name": "python2"
  },
  "language_info": {
   "codemirror_mode": {
    "name": "ipython",
    "version": 2
   },
   "file_extension": ".py",
   "mimetype": "text/x-python",
   "name": "python",
   "nbconvert_exporter": "python",
   "pygments_lexer": "ipython2",
   "version": "2.7.10"
  }
 },
 "nbformat": 4,
 "nbformat_minor": 0
}
