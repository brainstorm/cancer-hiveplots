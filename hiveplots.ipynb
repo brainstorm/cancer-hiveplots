{
 "cells": [
  {
   "cell_type": "code",
   "execution_count": 5,
   "metadata": {
    "collapsed": false
   },
   "outputs": [],
   "source": [
    "from __future__ import division\n",
    "import os\n",
    "import glob\n",
    "import math\n",
    "import pandas as pd\n",
    "import numpy as np\n",
    "import matplotlib as plt\n",
    "from pyveplot import *\n",
    "import networkx as nx\n",
    "import random\n",
    "from IPython.display import SVG, display_html\n",
    "%matplotlib inline"
   ]
  },
  {
   "cell_type": "markdown",
   "metadata": {},
   "source": [
    "## What is this analysis about?\n",
    "\n",
    "This notebook attemps to find alternative, clearer plots for inter and intra-chromosomal structural variations. In other words, the idea is to go from\n",
    "\n",
    "A typical Circos plot:\n",
    "\n",
    "<img src=\"https://www.genomatix.de/online_help/help_regionminer/SV_circos_genome.png\" height=300 width=300/>\n",
    "\n",
    "To this:\n",
    "\n",
    "<img src=\"img/hyplot_intra_inter.png\">\n",
    "\n",
    "From this:\n",
    "\n",
    "<img src=\"img/sv_table.png\">\n",
    "\n",
    "The pipeline used to generate the original input datasets was `bcbio-nextgen`:\n",
    "\n",
    "https://bcbio-nextgen.readthedocs.org/en/latest/contents/teaching.html\n",
    "\n",
    "And then [`vcfToBedpe`](https://github.com/ctsa/svtools/blob/master/vcfToBedpe) was used to convert a plain [VCF](https://samtools.github.io/hts-specs/VCFv4.2.pdf) to [BEDPE format](http://bedtools.readthedocs.org/en/latest/content/general-usage.html#bedpe-format) to generate a paired end version where structural variations are seen as pairs (`chrom` and `chrom_b` columns).\n",
    "\n",
    "Finally, [pyveplot](https://github.com/CSB-IG/pyveplot), a Python implementation of [Hive plots](http://www.hiveplot.net/) was used t "
   ]
  },
  {
   "cell_type": "code",
   "execution_count": 6,
   "metadata": {
    "collapsed": false
   },
   "outputs": [],
   "source": [
    "event_colors = {'DEL': 'red',\n",
    "                'INV': 'yellow',\n",
    "                'DUP': 'blue',\n",
    "                'BND': 'green',\n",
    "                'complex': 'purple'}"
   ]
  },
  {
   "cell_type": "markdown",
   "metadata": {},
   "source": [
    "## Plot a hiveplot"
   ]
  },
  {
   "cell_type": "code",
   "execution_count": 16,
   "metadata": {
    "collapsed": false
   },
   "outputs": [],
   "source": [
    "def hiveplot(fname, dataframe):\n",
    "    # Remove duplicates and filter out ALTS (GL000226.1, GL000224.1 ...)\n",
    "    dataframe = dataframe[~dataframe[\"chrom\"].str.contains(\"GL\")]\n",
    "    dataframe = dataframe.drop_duplicates(keep=\"first\") ## XXX: Perhaps I should group/count those instead?\n",
    "    \n",
    "    # a network\n",
    "    g = nx.Graph()\n",
    "\n",
    "    # our hiveplot object\n",
    "    h = Hiveplot('{}.svg'.format(fname))\n",
    "\n",
    "                  # start      end\n",
    "    axis0 = Axis((200,200), (200,100), stroke=\"grey\")\n",
    "    axis1 = Axis((200,200), (300,300), stroke=\"blue\", stroke_width=1.2)\n",
    "    axis2 = Axis((200,200), (10,310), stroke=\"black\", stroke_width=3)\n",
    "\n",
    "    h.axes = [ axis0, axis1, axis2 ]\n",
    "    \n",
    "    print dataframe.groupby(\"sv\").count()\n",
    "    \n",
    "    for _, chrom, chrom_b, sv in dataframe.itertuples():\n",
    "        g.add_node(chrom)\n",
    "        # Count = 1 looks better than parametrized with groupby\n",
    "        g.add_edge(chrom, chrom_b, event=sv, count=1)\n",
    "\n",
    "    for n in g.nodes():\n",
    "        # Separate instances for the axis, otherwise arcs go to itself.\n",
    "        node = Node(n)\n",
    "        node2 = Node(n)\n",
    "        node3 = Node(n)\n",
    "\n",
    "        # XXX: Find a better (more uniform) function than ord? \n",
    "        # A small hash function would be prob better here.\n",
    "        # Calculates the offset of the chromosomes in the axis.\n",
    "\n",
    "        n = str(n)\n",
    "        \n",
    "        if len(n) == 1:\n",
    "            offset_axis0 = ord(n) - 30\n",
    "            offset_axis1 = ord(n) - 20\n",
    "            offset_axis2 = ord(n) - 30\n",
    "        else:\n",
    "            chrom_offset = 0\n",
    "            for char in n:\n",
    "                chrom_offset = chrom_offset + ord(char)\n",
    "\n",
    "            offset_axis0 = chrom_offset\n",
    "            offset_axis1 = chrom_offset\n",
    "            offset_axis2 = chrom_offset\n",
    "\n",
    "        offset_axis0 = offset_axis0/120\n",
    "        offset_axis1 = offset_axis1/120\n",
    "        offset_axis2 = offset_axis2/120\n",
    "\n",
    "        axis0.add_node(node, offset_axis0)\n",
    "        axis1.add_node(node2, offset_axis1)\n",
    "        axis2.add_node(node3, offset_axis2)\n",
    "\n",
    "    for e in g.edges():\n",
    "        edge_data = g.get_edge_data(*e)\n",
    "\n",
    "        # inter-chromosomal axis\n",
    "        if e[0] != e[1] and (e[0] in axis0.nodes) and (e[1] in axis1.nodes):\n",
    "            h.connect(axis0, e[0], 45, \n",
    "                      axis1, e[1], -45, \n",
    "                      stroke_width=edge_data['count'], \n",
    "                      stroke=event_colors[edge_data['event']])\n",
    "        \n",
    "        # intra-chromosomal axis\n",
    "        elif e[0] == e[1] and (e[0] in axis1.nodes) and (e[1] in axis2.nodes):\n",
    "            h.connect(axis1, e[0], 15, \n",
    "                      axis2, e[1], -15, \n",
    "                      stroke_width=edge_data['count'], \n",
    "                      stroke=event_colors[edge_data['event']])\n",
    "\n",
    "    h.save()"
   ]
  },
  {
   "cell_type": "code",
   "execution_count": 17,
   "metadata": {
    "collapsed": false
   },
   "outputs": [
    {
     "name": "stdout",
     "output_type": "stream",
     "text": [
      "     chrom  chrom_b\n",
      "sv                 \n",
      "BND     48       48\n",
      "DEL     17       17\n",
      "DUP      6        6\n",
      "INV     13       13\n"
     ]
    }
   ],
   "source": [
    "data_path = \"data\"\n",
    "\n",
    "for dataset in glob.iglob(os.path.join(data_path, \"*.tsv\")):\n",
    "    hiveplot(os.path.basename(dataset), pd.read_table(dataset, names=[\"chrom\", \"chrom_b\", \"sv\"]))"
   ]
  }
 ],
 "metadata": {
  "kernelspec": {
   "display_name": "Python 2",
   "language": "python",
   "name": "python2"
  },
  "language_info": {
   "codemirror_mode": {
    "name": "ipython",
    "version": 2
   },
   "file_extension": ".py",
   "mimetype": "text/x-python",
   "name": "python",
   "nbconvert_exporter": "python",
   "pygments_lexer": "ipython2",
   "version": "2.7.10"
  }
 },
 "nbformat": 4,
 "nbformat_minor": 0
}
