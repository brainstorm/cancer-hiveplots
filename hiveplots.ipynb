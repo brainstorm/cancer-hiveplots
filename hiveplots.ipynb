{
 "cells": [
  {
   "cell_type": "code",
   "execution_count": 87,
   "metadata": {
    "collapsed": true
   },
   "outputs": [],
   "source": [
    "import pandas as pd\n",
    "from pyveplot import *\n",
    "import networkx, random\n",
    "from IPython.display import SVG\n",
    "\n",
    "# a network\n",
    "g = networkx.barabasi_albert_graph(50, 2)\n",
    "\n",
    "# our hiveplot object\n",
    "h = Hiveplot('example.svg')\n",
    "            # start      end\n",
    "axis0 = Axis( (100,100), (200,100), stroke=\"grey\")\n",
    "axis1 = Axis( (200,200), (100,200), stroke=\"blue\")\n",
    "\n",
    "h.axes = [ axis0, axis1 ]\n",
    "\n",
    "# randomly distribute nodes in axes\n",
    "for n in g.nodes():\n",
    "    node = Node(n)\n",
    "    random.choice( h.axes ).add_node( node, random.random() )\n",
    "\n",
    "for e in g.edges():\n",
    "    if (e[0] in axis0.nodes) and (e[1] in axis1.nodes):       # edges from axis0 to axis1\n",
    "        h.connect(axis0, e[0], 45,\n",
    "                  axis1, e[1], -45,\n",
    "                  stroke_width='0.34', stroke_opacity='0.4',\n",
    "                  stroke='purple')\n",
    "    elif (e[0] in axis1.nodes) and (e[1] in axis0.nodes):     # edges from axis1 to axis0\n",
    "        h.connect(axis1, e[0], -45,\n",
    "                  axis0, e[1], 45,\n",
    "                  stroke_width='0.34', stroke_opacity='0.4',\n",
    "                  stroke='red')\n",
    "\n",
    "h.save()"
   ]
  },
  {
   "cell_type": "markdown",
   "metadata": {},
   "source": [
    "### Only intra-chromosomal events happening on those datasets"
   ]
  },
  {
   "cell_type": "code",
   "execution_count": 106,
   "metadata": {
    "collapsed": false
   },
   "outputs": [
    {
     "data": {
      "text/plain": [
       "{('1', 'DEL'): [11],\n",
       " ('1', 'INV'): [16],\n",
       " ('1', 'complex'): [12],\n",
       " ('10', 'DEL'): [69],\n",
       " ('10', 'DUP'): [55],\n",
       " ('10', 'INV'): [64],\n",
       " ('10', 'complex'): [43],\n",
       " ('11', 'DEL'): [59],\n",
       " ('11', 'DUP'): [37],\n",
       " ('11', 'INV'): [45],\n",
       " ('11', 'complex'): [60],\n",
       " ('12', 'DEL'): [5],\n",
       " ('12', 'DUP'): [31],\n",
       " ('12', 'complex'): [17],\n",
       " ('13', 'complex'): [15],\n",
       " ('14', 'complex'): [7],\n",
       " ('15', 'DEL'): [28],\n",
       " ('15', 'complex'): [57],\n",
       " ('16', 'DEL'): [0],\n",
       " ('16', 'DUP'): [38],\n",
       " ('16', 'complex'): [24],\n",
       " ('17', 'DEL'): [41],\n",
       " ('17', 'DUP'): [26],\n",
       " ('17', 'complex'): [53],\n",
       " ('18', 'DEL'): [18],\n",
       " ('18', 'DUP'): [13],\n",
       " ('18', 'complex'): [56],\n",
       " ('19', 'DEL'): [49],\n",
       " ('19', 'DUP'): [34],\n",
       " ('19', 'INV'): [21],\n",
       " ('19', 'complex'): [42],\n",
       " ('2', 'DEL'): [67],\n",
       " ('2', 'DUP'): [23],\n",
       " ('2', 'INV'): [65],\n",
       " ('2', 'complex'): [2],\n",
       " ('20', 'DEL'): [47],\n",
       " ('20', 'DUP'): [4],\n",
       " ('20', 'complex'): [58],\n",
       " ('21', 'DEL'): [9],\n",
       " ('21', 'DUP'): [22],\n",
       " ('21', 'complex'): [40],\n",
       " ('22', 'complex'): [14],\n",
       " ('3', 'DEL'): [50],\n",
       " ('3', 'DUP'): [19],\n",
       " ('3', 'INV'): [52],\n",
       " ('3', 'complex'): [44],\n",
       " ('4', 'DEL'): [33],\n",
       " ('4', 'DUP'): [51],\n",
       " ('4', 'complex'): [30],\n",
       " ('5', 'DEL'): [20],\n",
       " ('5', 'DUP'): [35],\n",
       " ('5', 'complex'): [46],\n",
       " ('6', 'DEL'): [62],\n",
       " ('6', 'DUP'): [29],\n",
       " ('6', 'INV'): [3],\n",
       " ('6', 'complex'): [54],\n",
       " ('7', 'DEL'): [32],\n",
       " ('7', 'DUP'): [48],\n",
       " ('7', 'INV'): [66],\n",
       " ('7', 'complex'): [8],\n",
       " ('8', 'DEL'): [10],\n",
       " ('8', 'DUP'): [36],\n",
       " ('8', 'complex'): [61],\n",
       " ('9', 'DEL'): [70],\n",
       " ('9', 'DUP'): [25],\n",
       " ('9', 'complex'): [1],\n",
       " ('X', 'DEL'): [27],\n",
       " ('X', 'DUP'): [68],\n",
       " ('X', 'complex'): [6],\n",
       " ('Y', 'DUP'): [63],\n",
       " ('Y', 'complex'): [39]}"
      ]
     },
     "execution_count": 106,
     "metadata": {},
     "output_type": "execute_result"
    }
   ],
   "source": [
    "by_chrom_1953 = apgi_1953.groupby([\"chrom\", \"sv\"])\n",
    "by_chrom_1953.groups"
   ]
  },
  {
   "cell_type": "code",
   "execution_count": 116,
   "metadata": {
    "collapsed": false
   },
   "outputs": [
    {
     "name": "stdout",
     "output_type": "stream",
     "text": [
      "[('16', 'DEL'), ('9', 'complex'), ('7', 'INV'), ('2', 'complex'), ('6', 'INV'), ('20', 'DUP'), ('12', 'DEL'), ('14', 'complex'), ('7', 'complex'), ('21', 'DEL'), ('8', 'DEL'), ('1', 'DEL'), ('1', 'complex'), ('22', 'complex'), ('13', 'complex'), ('1', 'INV'), ('18', 'DEL'), ('9', 'DEL'), ('3', 'DUP'), ('5', 'DEL'), ('19', 'INV'), ('21', 'DUP'), ('2', 'DUP'), ('16', 'complex'), ('9', 'DUP'), ('17', 'DUP'), ('X', 'DEL'), ('15', 'DEL'), ('6', 'DUP'), ('3', 'INV'), ('4', 'complex'), ('12', 'DUP'), ('7', 'DEL'), ('4', 'DEL'), ('19', 'DUP'), ('5', 'DUP'), ('8', 'DUP'), ('X', 'complex'), ('16', 'DUP'), ('10', 'DUP'), ('21', 'complex'), ('17', 'DEL'), ('19', 'complex'), ('10', 'complex'), ('3', 'complex'), ('12', 'complex'), ('5', 'complex'), ('18', 'DUP'), ('19', 'DEL'), ('3', 'DEL'), ('4', 'DUP'), ('7', 'DUP'), ('17', 'complex'), ('6', 'complex'), ('Y', 'complex'), ('18', 'complex'), ('15', 'complex'), ('20', 'complex'), ('11', 'DEL'), ('11', 'complex'), ('8', 'complex'), ('6', 'DEL'), ('Y', 'DUP'), ('11', 'DUP'), ('10', 'INV'), ('2', 'INV'), ('20', 'DEL'), ('2', 'DEL'), ('X', 'DUP'), ('10', 'DEL'), ('11', 'INV')]\n",
      "16\n"
     ]
    },
    {
     "ename": "AttributeError",
     "evalue": "'str' object has no attribute 'x'",
     "output_type": "error",
     "traceback": [
      "\u001b[0;31m---------------------------------------------------------------------------\u001b[0m",
      "\u001b[0;31mAttributeError\u001b[0m                            Traceback (most recent call last)",
      "\u001b[0;32m<ipython-input-116-25295ecbed9b>\u001b[0m in \u001b[0;36m<module>\u001b[0;34m()\u001b[0m\n\u001b[1;32m     17\u001b[0m     \u001b[0;31m#g.add_edges_from(apgi_1953[])\u001b[0m\u001b[0;34m\u001b[0m\u001b[0;34m\u001b[0m\u001b[0m\n\u001b[1;32m     18\u001b[0m     \u001b[0;32mprint\u001b[0m\u001b[0;34m(\u001b[0m\u001b[0mk\u001b[0m\u001b[0;34m)\u001b[0m\u001b[0;34m\u001b[0m\u001b[0m\n\u001b[0;32m---> 19\u001b[0;31m     \u001b[0maxis0\u001b[0m\u001b[0;34m.\u001b[0m\u001b[0madd_node\u001b[0m\u001b[0;34m(\u001b[0m\u001b[0mk\u001b[0m\u001b[0;34m,\u001b[0m \u001b[0;36m2\u001b[0m\u001b[0;34m)\u001b[0m \u001b[0;31m#XXX: Tweak the offset parameter... not sure if random is best choice\u001b[0m\u001b[0;34m\u001b[0m\u001b[0m\n\u001b[0m\u001b[1;32m     20\u001b[0m \u001b[0;34m\u001b[0m\u001b[0m\n\u001b[1;32m     21\u001b[0m \u001b[0;32mfor\u001b[0m \u001b[0me\u001b[0m \u001b[0;32min\u001b[0m \u001b[0mg\u001b[0m\u001b[0;34m.\u001b[0m\u001b[0medges\u001b[0m\u001b[0;34m(\u001b[0m\u001b[0;34m)\u001b[0m\u001b[0;34m:\u001b[0m\u001b[0;34m\u001b[0m\u001b[0m\n",
      "\u001b[0;32m/Users/romanvg/anaconda/lib/python2.7/site-packages/pyveplot/__init__.pyc\u001b[0m in \u001b[0;36madd_node\u001b[0;34m(self, node, offset)\u001b[0m\n\u001b[1;32m     65\u001b[0m         \u001b[0mwidth\u001b[0m  \u001b[0;34m=\u001b[0m \u001b[0mself\u001b[0m\u001b[0;34m.\u001b[0m\u001b[0mend\u001b[0m\u001b[0;34m[\u001b[0m\u001b[0;36m0\u001b[0m\u001b[0;34m]\u001b[0m \u001b[0;34m-\u001b[0m \u001b[0mself\u001b[0m\u001b[0;34m.\u001b[0m\u001b[0mstart\u001b[0m\u001b[0;34m[\u001b[0m\u001b[0;36m0\u001b[0m\u001b[0;34m]\u001b[0m\u001b[0;34m\u001b[0m\u001b[0m\n\u001b[1;32m     66\u001b[0m         \u001b[0mheight\u001b[0m \u001b[0;34m=\u001b[0m \u001b[0mself\u001b[0m\u001b[0;34m.\u001b[0m\u001b[0mend\u001b[0m\u001b[0;34m[\u001b[0m\u001b[0;36m1\u001b[0m\u001b[0;34m]\u001b[0m \u001b[0;34m-\u001b[0m \u001b[0mself\u001b[0m\u001b[0;34m.\u001b[0m\u001b[0mstart\u001b[0m\u001b[0;34m[\u001b[0m\u001b[0;36m1\u001b[0m\u001b[0;34m]\u001b[0m\u001b[0;34m\u001b[0m\u001b[0m\n\u001b[0;32m---> 67\u001b[0;31m         \u001b[0mnode\u001b[0m\u001b[0;34m.\u001b[0m\u001b[0mx\u001b[0m \u001b[0;34m=\u001b[0m \u001b[0mself\u001b[0m\u001b[0;34m.\u001b[0m\u001b[0mstart\u001b[0m\u001b[0;34m[\u001b[0m\u001b[0;36m0\u001b[0m\u001b[0;34m]\u001b[0m \u001b[0;34m+\u001b[0m \u001b[0;34m(\u001b[0m\u001b[0mwidth\u001b[0m \u001b[0;34m*\u001b[0m \u001b[0moffset\u001b[0m\u001b[0;34m)\u001b[0m\u001b[0;34m\u001b[0m\u001b[0m\n\u001b[0m\u001b[1;32m     68\u001b[0m         \u001b[0mnode\u001b[0m\u001b[0;34m.\u001b[0m\u001b[0my\u001b[0m \u001b[0;34m=\u001b[0m \u001b[0mself\u001b[0m\u001b[0;34m.\u001b[0m\u001b[0mstart\u001b[0m\u001b[0;34m[\u001b[0m\u001b[0;36m1\u001b[0m\u001b[0;34m]\u001b[0m \u001b[0;34m+\u001b[0m \u001b[0;34m(\u001b[0m\u001b[0mheight\u001b[0m \u001b[0;34m*\u001b[0m \u001b[0moffset\u001b[0m\u001b[0;34m)\u001b[0m\u001b[0;34m\u001b[0m\u001b[0m\n\u001b[1;32m     69\u001b[0m         \u001b[0mself\u001b[0m\u001b[0;34m.\u001b[0m\u001b[0mnodes\u001b[0m\u001b[0;34m[\u001b[0m\u001b[0mnode\u001b[0m\u001b[0;34m.\u001b[0m\u001b[0mID\u001b[0m\u001b[0;34m]\u001b[0m \u001b[0;34m=\u001b[0m \u001b[0mnode\u001b[0m\u001b[0;34m\u001b[0m\u001b[0m\n",
      "\u001b[0;31mAttributeError\u001b[0m: 'str' object has no attribute 'x'"
     ]
    }
   ],
   "source": [
    "# a network\n",
    "g = networkx.Graph()\n",
    "\n",
    "# our hiveplot object\n",
    "h = Hiveplot('fiamh_plot.svg')\n",
    "\n",
    "              # start      end\n",
    "axis0 = Axis( (100,100), (200,100), stroke=\"red\")\n",
    "axis1 = Axis( (200,200), (100,200), stroke=\"blue\")\n",
    "\n",
    "h.axes = [ axis0, axis1 ]\n",
    "\n",
    "for k,_ in g.nodes():\n",
    "    # XXX: Same indexes since it is intra-chromosomal, needs to be generalized\n",
    "    #g.add_edges_from(apgi_1953[])\n",
    "    print(k)\n",
    "    axis0.add_node(k, 2) #XXX: Tweak the offset parameter... not sure if random is best choice\n",
    "\n",
    "for e in g.edges():\n",
    "    if (e[0] in axis0.nodes) and (e[1] in axis1.nodes):       # edges from axis0 to axis1\n",
    "        h.connect(axis0, e[0], 45, axis1, 2, 45, stroke_width='3', stroke_opacity=\"0.4\", stroke='red')\n",
    "    \n",
    "    elif (e[0] in axis1.nodes) and (e[1] in axis0.nodes):     # edges from axis1 to axis0\n",
    "        h.connect(axis1, e[1], 45, axis0, 2, 45, stroke_width='3', stroke_opacity=\"0.4\", stroke='blue')\n",
    "\n",
    "h.save()"
   ]
  },
  {
   "cell_type": "code",
   "execution_count": 78,
   "metadata": {
    "collapsed": false
   },
   "outputs": [
    {
     "data": {
      "text/html": [
       "<div>\n",
       "<table border=\"1\" class=\"dataframe\">\n",
       "  <thead>\n",
       "    <tr style=\"text-align: right;\">\n",
       "      <th></th>\n",
       "      <th>chrom</th>\n",
       "      <th>sv</th>\n",
       "      <th>counts</th>\n",
       "    </tr>\n",
       "  </thead>\n",
       "  <tbody>\n",
       "    <tr>\n",
       "      <th>0</th>\n",
       "      <td>16</td>\n",
       "      <td>DEL</td>\n",
       "      <td>3</td>\n",
       "    </tr>\n",
       "    <tr>\n",
       "      <th>24</th>\n",
       "      <td>16</td>\n",
       "      <td>complex</td>\n",
       "      <td>7</td>\n",
       "    </tr>\n",
       "    <tr>\n",
       "      <th>38</th>\n",
       "      <td>16</td>\n",
       "      <td>DUP</td>\n",
       "      <td>3</td>\n",
       "    </tr>\n",
       "  </tbody>\n",
       "</table>\n",
       "</div>"
      ],
      "text/plain": [
       "   chrom       sv  counts\n",
       "0     16      DEL       3\n",
       "24    16  complex       7\n",
       "38    16      DUP       3"
      ]
     },
     "execution_count": 78,
     "metadata": {},
     "output_type": "execute_result"
    }
   ],
   "source": [
    "apgi_1953[apgi_1953[\"chrom\"] == \"16\"]"
   ]
  },
  {
   "cell_type": "code",
   "execution_count": null,
   "metadata": {
    "collapsed": true
   },
   "outputs": [],
   "source": []
  }
 ],
 "metadata": {
  "kernelspec": {
   "display_name": "Python 2",
   "language": "python",
   "name": "python2"
  },
  "language_info": {
   "codemirror_mode": {
    "name": "ipython",
    "version": 2
   },
   "file_extension": ".py",
   "mimetype": "text/x-python",
   "name": "python",
   "nbconvert_exporter": "python",
   "pygments_lexer": "ipython2",
   "version": "2.7.10"
  }
 },
 "nbformat": 4,
 "nbformat_minor": 0
}
