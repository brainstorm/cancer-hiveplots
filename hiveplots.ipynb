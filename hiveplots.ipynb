{
 "cells": [
  {
   "cell_type": "code",
   "execution_count": null,
   "metadata": {
    "collapsed": false
   },
   "outputs": [],
   "source": [
    "from __future__ import division\n",
    "import os\n",
    "import csv\n",
    "import pysam\n",
    "import math\n",
    "\n",
    "import subprocess\n",
    "import commands\n",
    "import gzip\n",
    "import glob\n",
    "import math\n",
    "import pandas as pd\n",
    "import numpy as np\n",
    "import matplotlib as plt\n",
    "from pyveplot import *\n",
    "#from collections import namedtuple\n",
    "import networkx as nx\n",
    "import random\n",
    "from IPython.display import SVG\n",
    "%matplotlib inline"
   ]
  },
  {
   "cell_type": "markdown",
   "metadata": {},
   "source": [
    "## Circos vs Hiveplots\n",
    "\n",
    "This notebook attemps to find alternative, clearer plots for inter and intra-chromosomal structural variations. In other words, the idea is to go from\n",
    "\n",
    "A typical Circos plot:\n",
    "\n",
    "<img src=\"https://www.genomatix.de/online_help/help_regionminer/SV_circos_genome.png\" height=300 width=300/>\n",
    "\n",
    "To this:\n",
    "\n",
    "<img src=\"img/hyplot_intra_inter.png\"/>\n",
    "\n",
    "From this:\n",
    "\n",
    "<img src=\"img/sv_table.png\"/>\n",
    "\n",
    "Some of the preliminary data comes from [Australian Pancreatic Cancer Genome Initiative](http://www.pancreaticcancer.net.au/), other from the [ICGC-TCGA DREAM challenge](https://www.synapse.org/#!Synapse:syn312572) processed via the [bcbio cancer pipeline](https://bcbio-nextgen.readthedocs.org/en/latest/contents/pipelines.html#cancer-variant-calling). That pipeline run takes a considerable amount of time to run given the big input sizes and [running several variant callers](http://bcb.io/2015/03/05/cancerval/).\n",
    "\n",
    "For pedagogical reasons, the resulting tab-separated `.tsv` files have been generated for easy analysis. If a more upstream run or (re)-analysis  is required, there's [reduced dataset that focuses on chromosome 6](https://bcbio-nextgen.readthedocs.org/en/latest/contents/teaching.html).\n",
    "\n",
    "After filtering VCF's resulting from both [Manta](https://github.com/Illumina/manta) variant caller and [Lumpy](https://github.com/arq5x/lumpy-sv) with a simple [vawk expression](https://github.com/cc2qe/vawk):\n",
    "\n",
    "<pre>\n",
    "gzcat manta-variants.vcf.gz | vawk '{{if (($12 == \"PASS\")) print $1, $4, $11, $17 }}'\n",
    "</pre>\n",
    "\n",
    "A svtools script, [`vcfToBedpe`](https://raw.githubusercontent.com/hall-lab/svtools/master/bin/vcftobedpe), was used to convert a plain [VCF](https://samtools.github.io/hts-specs/VCFv4.2.pdf) to [BEDPE format](http://bedtools.readthedocs.org/en/latest/content/general-usage.html#bedpe-format) to generate a paired end version where structural variations are seen as pairs (`chrom` and `chrom_b` columns).\n",
    "\n",
    "Finally, [pyveplot](https://github.com/CSB-IG/pyveplot), a Python implementation of [Hive plots](http://www.hiveplot.net/) was used to show the representation above.\n",
    "\n",
    "A Hive plot is a perceptually uniform and scalable linear layout visualization for network visual analytics (doi: 10.1093/bib/bbr069).\n",
    "\n",
    "<img src=\"img/hiveplot-thisisuseful.png\"/>"
   ]
  },
  {
   "cell_type": "code",
   "execution_count": null,
   "metadata": {
    "collapsed": false
   },
   "outputs": [],
   "source": [
    "vcf_data = \"data/vcf\"\n",
    "tsv_data = \"data/tsv\"\n",
    "ev_data = \"data/sv_size\"\n",
    "\n",
    "lorena_vcf = \"data/lorena_vcf\"\n",
    "lorena_tsv = \"data/lorena_tsv\"\n",
    "\n",
    "brad_vcf = \"data/bradsv/input\"\n",
    "brad_csv = \"data/bradsv/sv_plots\"\n",
    "\n",
    "bnd_genotype_vcf = \"data/bndgenotype/input\"\n",
    "bnd_genotype_csv = \"data/bndgenotype/sv_plots\"\n",
    "\n",
    "event_colors = {'DEL': 'red',\n",
    "                'INV': 'yellow',\n",
    "                'DUP': 'blue',\n",
    "                'BND': 'green',\n",
    "                'complex': 'purple'}\n",
    "\n",
    "# handy mapping\n",
    "\n",
    "#Unstable: APGI 1953 (ICGC 0006)\n",
    "#Focal: APGI 1955 (ICGC 0007)\n",
    "#Stable: APGI 2049 (ICGC 0031)\n",
    "\n",
    "sample_class = { 'APGI1953_Tumor': 'Unstable (APGI1953)',\n",
    "                 'APGI1955_Tumor': 'Focal (APGI1955)',\n",
    "                 'APGI2049_Tumor': 'Stable (APGI2094)'}"
   ]
  },
  {
   "cell_type": "code",
   "execution_count": null,
   "metadata": {
    "collapsed": true
   },
   "outputs": [],
   "source": [
    "#!/usr/bin/env python\n",
    "\"\"\"Extract structural variations in regions of interest into tab delimited files for circos plots.\n",
    "\"\"\"\n",
    "\n",
    "def prepare_samples():\n",
    "    samples = {\"APGI\": [\"APGI1953_Tumor\", \"APGI1955_Tumor\", \"APGI2049_Tumor\"]}\n",
    "    callers = [\"lumpy\"]\n",
    "    chroms = {\"APGI\": [x for x in range(1, 23)]}\n",
    "\n",
    "    allowed_chroms = set([str(x) for x in range(1, 23)])\n",
    "    for project, samples in samples.items():\n",
    "        out_file = \"%s-svs.csv\" % (project)\n",
    "        region_bed = \"%s-ends.bed\" % (project)\n",
    "        with open(out_file, \"w\") as out_handle:\n",
    "            with open(region_bed, \"w\") as region_out:\n",
    "                writer = csv.writer(out_handle)\n",
    "                writer.writerow([\"chrom1\", \"start1\", \"end1\", \"chrom2\", \"start2\", \"end2\", \"sample\", \"caller\", \"svtype\"])\n",
    "                for sample in samples:\n",
    "                    for ci, caller in enumerate(callers):\n",
    "                        sv_file = \"%s-%s.vcf.gz\" % (sample, caller)\n",
    "                        for p1, p2, svtype in parse_svs(sv_file):\n",
    "                            if True:\n",
    "                            #if p1[0] in chroms[project] or p2[0] in chroms[project]:\n",
    "                                if p1[0] in allowed_chroms and p2[0] in allowed_chroms:\n",
    "                                    writer.writerow(p1 + p2 + [sample, caller, svtype])\n",
    "                                    if ci == 0:\n",
    "                                        for (chrom, start, end) in [p1, p2]:\n",
    "                                            region_out.write(\"%s\\t%s\\t%s\\t%s\\n\" % (chrom, start - 1, end, sample))\n",
    "        filter_shared(out_file, region_bed)\n",
    "        # noshared_file = \"%s-noshared%s\" % os.path.splitext(out_file)\n",
    "        # with open(noshared_file, \"w\") as out_handle:\n",
    "        #     writer = csv.writer(out_handle)\n",
    "        #     writer.writerow([\"chrom1\", \"start1\", \"end1\", \"chrom2\", \"start2\", \"end2\", \"sample\", \"caller\", \"svtype\"])\n",
    "        #     for row in filter_shared(out_file, region_bed):\n",
    "        #         writer.writerow(row)\n",
    "\n",
    "def filter_shared(in_file, region_bed):\n",
    "    #http://stackoverflow.com/questions/4265284/how-to-do-sort-v-in-osx\n",
    "    cmd = \"sort -k1,1 -k2,2n {region_bed} | bedtools merge -i - -d 10000 -c 4 -o count_distinct\"\n",
    "    overlaps = subprocess.check_output(cmd.format(**locals()), shell=True)\n",
    "    shared = 0\n",
    "    noshared = 0\n",
    "    for line in overlaps.split(\"\\n\"):\n",
    "        if line.strip():\n",
    "            if int(line.strip().split()[-1]) > 1:\n",
    "                shared += 1\n",
    "            else:\n",
    "                noshared += 1\n",
    "    print shared, noshared\n",
    "    return []\n",
    "\n",
    "def parse_svs(in_file):\n",
    "    bnds = {}\n",
    "\n",
    "    min_su_bnd = 25\n",
    "    min_su_other = 25\n",
    "\n",
    "    for rec in pysam.VariantFile(in_file):\n",
    "        if passes(rec):\n",
    "            if rec.info[\"SVTYPE\"] == \"BND\":\n",
    "                if rec.info.get(\"SU\") is None or rec.info[\"SU\"] > min_su_bnd:\n",
    "                    p = [rec.chrom.replace(\"chr\", \"\"), rec.start, rec.start]\n",
    "                    if rec.id in bnds:\n",
    "                        p_o = bnds[rec.id]\n",
    "                        yield p_o, p, rec.info[\"SVTYPE\"]\n",
    "                        del bnds[rec.id]\n",
    "                    else:\n",
    "                        mate_id = rec.info.get(\"MATEID\")\n",
    "                        bnds[mate_id] = p\n",
    "            else:\n",
    "                if rec.info.get(\"SU\") is None or rec.info[\"SU\"] > min_su_other:\n",
    "                    p1 = [rec.chrom.replace(\"chr\", \"\"), rec.start, rec.start]\n",
    "                    p2 = [rec.chrom.replace(\"chr\", \"\"), rec.info[\"END\"], rec.info[\"END\"]]\n",
    "                    yield p1, p2, rec.info[\"SVTYPE\"]\n",
    "\n",
    "def passes(rec):\n",
    "    if len(rec.filter.keys()) == 0 or rec.filter.keys() == 0 or rec.filter.keys()[0] == \"PASS\":\n",
    "        if not rec.samples[0].get(\"GT\"):\n",
    "            return True\n",
    "        elif list(set(rec.samples[0].get(\"GT\"))) != [\"N\"]:\n",
    "            return True\n",
    "    return False"
   ]
  },
  {
   "cell_type": "markdown",
   "metadata": {},
   "source": [
    "## Plot a hiveplot"
   ]
  },
  {
   "cell_type": "code",
   "execution_count": null,
   "metadata": {
    "collapsed": false
   },
   "outputs": [],
   "source": [
    "def hiveplot(samples):\n",
    "    \"\"\" Plots a hiveplot with:\n",
    "            1) A lower quadrant axis dedicated to intra-chromosomal events.\n",
    "            2) Right hand side axis represents inter-chromosomal events.\n",
    "            3) Upper left corner reserved for kataegis events (still to be defined).\n",
    "            \n",
    "        :samples: An array containing tuples in the form: [(dataframe, sample_name), (dataframe2, sample2), ...]\n",
    "    \"\"\"\n",
    "    axis_length = 200\n",
    "    chroms = 23\n",
    "    offset = math.ceil(axis_length/chroms)\n",
    "   \n",
    "    for dataframe, fname in samples:\n",
    "        # Remove duplicates and filter out ALTS (GL000226.1, GL000224.1 ...)\n",
    "        #dataframe = dataframe[~dataframe[\"chrom\"].str.contains(\"GL\")]\n",
    "        dataframe = dataframe.drop_duplicates(keep=\"first\") ## XXX: Perhaps should group/count dups better?\n",
    "\n",
    "        # a network\n",
    "        g = nx.Graph()\n",
    "\n",
    "        # our hiveplot object\n",
    "        h = Hiveplot('{}.svg'.format(fname))\n",
    "\n",
    "                      # start      end\n",
    "        axis0 = Axis((axis_length, axis_length), (axis_length, 100), stroke=\"grey\")\n",
    "        axis1 = Axis((axis_length, axis_length), (300,300), stroke=\"blue\", stroke_width=1.2)\n",
    "        axis2 = Axis((axis_length, axis_length), (10,310), stroke=\"black\", stroke_width=3)\n",
    "\n",
    "        \n",
    "        h.axes = [ axis0, axis1, axis2 ]\n",
    "\n",
    "        #print \"Structural variation events for ''{fname}'' have the following counts:\\n\\n{groupby}\\n\".format(\n",
    "        #       groupby=dataframe.groupby(\"sv\").count(), fname=fname)\n",
    "\n",
    "        for row in dataframe.itertuples():\n",
    "            # idx, u'sample', u'chrom', u'chrom_b', u'sv', u'counts'\n",
    "            g.add_node(row[2])\n",
    "            # Count = 1 looks better than parametrized with groupby\n",
    "            g.add_edge(row[2], row[3], event=row[4], count=1)\n",
    "\n",
    "        try:\n",
    "            for n in g.nodes():\n",
    "                # XXX: skip X an y chromosomes for now\n",
    "                # Separate instances for the axis, otherwise arcs go to itself.\n",
    "                node = Node(n)\n",
    "                node2 = Node(n)\n",
    "                node3 = Node(n)\n",
    "\n",
    "                node_offset = (offset*int(n))/axis_length\n",
    "                print(node_offset)\n",
    "\n",
    "                axis0.add_node(node, node_offset)\n",
    "                axis1.add_node(node2, node_offset)\n",
    "                axis2.add_node(node3, node_offset)\n",
    "        except:\n",
    "            continue\n",
    "            #print(\"{chrom} will not be plotted\".format(chrom=n))\n",
    "\n",
    "        \n",
    "        for e in g.edges():\n",
    "            edge_data = g.get_edge_data(*e)\n",
    "\n",
    "            # inter-chromosomal axis\n",
    "            if e[0] != e[1] and (e[0] in axis0.nodes) and (e[1] in axis1.nodes):\n",
    "                h.connect(axis0, e[0], 45, \n",
    "                          axis1, e[1], -45, \n",
    "                          stroke_width=edge_data['count'], \n",
    "                          stroke=event_colors[edge_data['event']])\n",
    "\n",
    "            # intra-chromosomal axis\n",
    "            elif e[0] == e[1] and (e[0] in axis1.nodes) and (e[1] in axis2.nodes):\n",
    "                h.connect(axis1, e[0], 15, \n",
    "                          axis2, e[1], -15, \n",
    "                          stroke_width=edge_data['count'], \n",
    "                          stroke=event_colors[edge_data['event']])\n",
    "\n",
    "        h.save()"
   ]
  },
  {
   "cell_type": "markdown",
   "metadata": {},
   "source": [
    "### Shipped TSV's do not have the same structure, normalize"
   ]
  },
  {
   "cell_type": "code",
   "execution_count": null,
   "metadata": {
    "collapsed": false
   },
   "outputs": [],
   "source": [
    "def normalize(data):\n",
    "    \"\"\" Try to harmonize the different input csv/tsv files from different scripts\n",
    "    \"\"\"\n",
    "    #print(data)\n",
    "    if \"chrom1\" in data.columns:\n",
    "        print(data.columns)\n",
    "    #    print(data)\n",
    "    #if \"counts\" not in data.columns:\n",
    "    #    data.columns = [\"chrom\", \"chrom_b\", \"sv\"]\n",
    "    #    data.insert(0, 'sample', np.nan)\n",
    "    #    data.insert(len(data.columns), 'counts', np.nan)\n",
    "    #else:\n",
    "    #    data.insert(2, 'chrom_b', 0)\n",
    "\n",
    "    # Cleanup GL* alts\n",
    "    #data = data[~data[\"chrom\"].str.contains(\"GL\")]\n",
    "    \n",
    "    return data"
   ]
  },
  {
   "cell_type": "code",
   "execution_count": null,
   "metadata": {
    "collapsed": false
   },
   "outputs": [],
   "source": [
    "def vcftobedpe_vawk(fnames_path, out_tsv_path=tsv_data, pass_filter=True):\n",
    "    \"\"\" Converts a VCF file to paired end breakend BED file. Then filters via a specific vawk criteria.\n",
    "    \"\"\"\n",
    "    \n",
    "    for tumor in glob.iglob(os.path.join(fnames_path, \"*.vcf.gz\")):\n",
    "        # already converted to bedpe\n",
    "        if 'paired' in tumor:\n",
    "            continue\n",
    "        base_tumor_fn = os.path.splitext(os.path.splitext(tumor)[0]) \n",
    "        paired_fn = base_tumor_fn[0]+\".paired\"+\".vcf\"\n",
    "        final_tsv = os.path.join(out_tsv_path, os.path.basename(base_tumor_fn[0])+\".tsv\")\n",
    "\n",
    "        print(\"Converting filename {tumor} to {tsv}\".format(tumor=tumor, tsv=final_tsv))\n",
    "        vcftope_cmd = ([\"vcftobedpe\", \"-i\", tumor, \"-o\", paired_fn])\n",
    "\n",
    "        if not pass_filter:\n",
    "            vawk_cmd = \"\"\"gzcat {tumor} | grep -v ^GL | vawk '{{print $1,$4,$11}}' > {paired}\"\"\".format(tumor=tumor, paired=paired_fn)\n",
    "            print vawk_cmd\n",
    "        else:\n",
    "            vawk_cmd = \"\"\"gzcat {tumor} | grep -v ^GL | vawk \\\n",
    "                         '{{if (($12 == \"PASS\" || $7 == \".\") && (S$GT != \"0/0\")) \\\n",
    "                          print $1,$4,$11}}' > {paired}\"\"\".format(tumor=tumor, paired=paired_fn)\n",
    "\n",
    "\n",
    "        #vawk_sv_size = \"\"\"cat {paired_vcf} | grep -v ^GL | vawk '{{if (($12 == \"PASS\" || $7 == \".\") \\\n",
    "        #                  && (S$GT != \"0/0\") && (S$SR > 5)) \\\n",
    "        #                  print $1,$2,$4,$5,$11}}' > {tumor_tsv}\"\"\".format(paired_vcf=paired_fn, tumor_tsv=final_tsv)\n",
    "\n",
    "        subprocess.check_call(vcftope_cmd)\n",
    "        commands.getstatus(vawk_cmd)\n",
    "        #commands.getstatus(vawk_sv_size)"
   ]
  },
  {
   "cell_type": "code",
   "execution_count": null,
   "metadata": {
    "collapsed": false
   },
   "outputs": [],
   "source": [
    "def sample_summary_table(datasets):\n",
    "    \"\"\" A table with chr1-Y as rows, each sample as a column, \n",
    "        number of inter/intra-chromosomal events as data points.\n",
    "\n",
    "        :datasets: a tuple with several (data, sample_names) where data is the associated Pandas dataframe.\n",
    "    \"\"\"\n",
    "    chromosomes = [str(x) for x in range(1,23)]\n",
    "    chromosomes.append('X')\n",
    "    chromosomes.append('Y')\n",
    "    \n",
    "    samples = [x[1] for x in datasets]\n",
    "    \n",
    "    summary = pd.DataFrame(columns=samples, index=chromosomes)\n",
    "    \n",
    "    for data, sample in datasets:\n",
    "        # Uncomment and tweak code below if one wants totals, not by chromosome\n",
    "        #intra_chrom = len(data[data['chrom'] == data['chrom_b']].index)\n",
    "        #inter_chrom = len(data[data['chrom'] != data['chrom_b']].index)\n",
    "        \n",
    "        for chrom in chromosomes:\n",
    "            intra_specific_chrom = len(data[((data['chrom'] == chrom) | (data['chrom_b'] == chrom)) & (data['chrom'] == data['chrom_b'])].index)\n",
    "            inter_specific_chrom = len(data[((data['chrom'] == chrom) | (data['chrom_b'] == chrom)) & (data['chrom'] != data['chrom_b'])].index)\n",
    "            \n",
    "            summary.loc[chrom][sample] = (intra_specific_chrom, inter_specific_chrom)\n",
    "        \n",
    "        #print data.groupby(['sv', 'chrom'])['chrom'].count()\n",
    "        \n",
    "    return summary"
   ]
  },
  {
   "cell_type": "code",
   "execution_count": null,
   "metadata": {
    "collapsed": true
   },
   "outputs": [],
   "source": [
    "def event_size_distr(dataset):\n",
    "    \"\"\"Can you get the size distribution of events out of the VCF (for the intrachromosomal SVs only)? \n",
    "       Wonder if this is Lumpy calling tons of short to mid-sized Indels. \n",
    "    \"\"\"\n",
    "    df = pd.read_table(dataset, dtype=object, names = [\"chrom_a\", \"pos_a\", \"chrom_b\", \"pos_b\", \"sv\"])\n",
    "    # Only intra-chromosomal, positions between distant chroms can be misleading\n",
    "    df = df[df['chrom_a'] == df['chrom_b']]\n",
    "    df[\"size\"] = abs(np.int64(df[\"pos_b\"]) - np.int64(df[\"pos_a\"]))\n",
    "    #size_distr = df.groupby(['sv', 'chrom_a'])['size']\n",
    "\n",
    "    return df"
   ]
  },
  {
   "cell_type": "markdown",
   "metadata": {},
   "source": [
    "### Process and plot all the TSV's"
   ]
  },
  {
   "cell_type": "code",
   "execution_count": null,
   "metadata": {
    "collapsed": true
   },
   "outputs": [],
   "source": [
    "def process_samples(vcf_files, out_tsv, pass_filter):\n",
    "    samples = []\n",
    "   \n",
    "    #vcftobedpe_vawk(vcf_files, out_tsv, pass_filter)\n",
    "\n",
    "    for dataset in glob.iglob(os.path.join(out_tsv, \"*.?sv\")):\n",
    "        dataset_name = os.path.basename(dataset)\n",
    "\n",
    "        if \"tsv\" in dataset_name:\n",
    "            study = pd.read_table(dataset, dtype=object)\n",
    "        elif \"csv\" in dataset_name:\n",
    "            study = pd.read_csv(dataset, dtype=object)\n",
    "        #study = normalize(study)\n",
    "        \n",
    "        samples.append((study, dataset_name))\n",
    "        \n",
    "    return samples"
   ]
  },
  {
   "cell_type": "code",
   "execution_count": null,
   "metadata": {
    "collapsed": false
   },
   "outputs": [],
   "source": [
    "#samples = process_samples(lorena_vcf, lorena_tsv, pass_filter=False)\n",
    "samples = process_samples(bnd_genotype_vcf, bnd_genotype_csv, pass_filter=False)\n",
    "chrom_svs = samples[0][0][['sample', 'chrom1', 'chrom2', 'svtype']]\n",
    "chrom_svs.columns = ['sample', 'chrom', 'chrom_b', 'sv']\n",
    "\n",
    "tumors = []\n",
    "\n",
    "for sample in chrom_svs.groupby(\"sample\"):\n",
    "    tumor_df = pd.DataFrame.copy(sample[1].replace(to_replace=sample_class))\n",
    "    tumor_names = sample[0].replace(sample[0], sample_class[sample[0]])\n",
    "    tumors.append((tumor_df, tumor_names))\n",
    "\n",
    "#hiveplot(chrom_svs)\n",
    "#sample_summary_table(tumors).to_excel(\"New_APGI_Tumors_manta_with_Brad_script.xls\")\n",
    "#chrom_svs[0][0].groupby('sv')['sv'].count()\n",
    "#chrom_svs\n",
    "sample_summary_table(tumors).applymap(lambda x: x[0]).plot(kind=\"bar\", figsize=(10, 5), title=\"Intra Chromosomal SV with manta, BND-Genotype Brad SVS script, full dp10\")"
   ]
  },
  {
   "cell_type": "code",
   "execution_count": null,
   "metadata": {
    "collapsed": false
   },
   "outputs": [],
   "source": [
    "sample_summary_table(tumors).applymap(lambda x: x[1]).plot(kind=\"bar\", figsize=(10, 5), title=\"Inter Chromosomal SV with manta, Brad script, SU=10\")"
   ]
  },
  {
   "cell_type": "markdown",
   "metadata": {},
   "source": [
    "## Validate that the hiveplot shows correct chrom interactions from a mock dataset and NA12878 "
   ]
  },
  {
   "cell_type": "code",
   "execution_count": null,
   "metadata": {
    "collapsed": false
   },
   "outputs": [],
   "source": [
    "mock = pd.read_table(os.path.join(\"tests\", \"test_data.tsv\"), dtype=object, names = [u'sample', u'chrom', u'chrom_b', u'sv', u'counts'])\n",
    "\n",
    "all_1to1 = pd.read_table(os.path.join(\"tests\", \"all_chroms_1to1.tsv\"),delimiter=\" \", dtype=object, names = [u'sample', u'chrom', u'chrom_b', u'sv', u'counts'])\n",
    "\n",
    "na12878 = pd.read_csv(os.path.join(\"tests\", \"NA12878-svs.csv.gz\"), dtype=object)\n",
    "na12878 = na12878[[\"sample\", \"chrom1\", \"chrom2\", \"svtype\"]]\n",
    "na12878.columns = [\"sample\", \"chrom\", \"chrom_b\", \"sv\"]\n",
    "na12878[\"counts\"] = np.nan"
   ]
  },
  {
   "cell_type": "code",
   "execution_count": null,
   "metadata": {
    "collapsed": false
   },
   "outputs": [],
   "source": [
    "all_1to1[\"counts\"] = 1"
   ]
  },
  {
   "cell_type": "code",
   "execution_count": null,
   "metadata": {
    "collapsed": false
   },
   "outputs": [],
   "source": [
    "# hiveplot([(na12878, \"NA12878\")])\n",
    "hiveplot([(mock, \"mock\")])\n",
    "hiveplot([(all_1to1, \"all_1to1\")])"
   ]
  }
 ],
 "metadata": {
  "kernelspec": {
   "display_name": "Python 2",
   "language": "python",
   "name": "python2"
  },
  "language_info": {
   "codemirror_mode": {
    "name": "ipython",
    "version": 2
   },
   "file_extension": ".py",
   "mimetype": "text/x-python",
   "name": "python",
   "nbconvert_exporter": "python",
   "pygments_lexer": "ipython2",
   "version": "2.7.11"
  }
 },
 "nbformat": 4,
 "nbformat_minor": 0
}
